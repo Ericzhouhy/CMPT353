{
 "cells": [
  {
   "cell_type": "code",
   "execution_count": 1,
   "id": "a2fa1e77",
   "metadata": {},
   "outputs": [],
   "source": [
    "import sys\n",
    "import numpy as np\n",
    "import pandas as pd\n",
    "import matplotlib.pyplot as plt\n",
    "import xml.etree.ElementTree as ET\n",
    "from pykalman import KalmanFilter\n",
    "from sklearn import datasets\n",
    "import math"
   ]
  },
  {
   "cell_type": "code",
   "execution_count": 2,
   "id": "aaeb05d9",
   "metadata": {},
   "outputs": [],
   "source": [
    "def output_gpx(points, output_filename):\n",
    "    \"\"\"\n",
    "    Output a GPX file with latitude and longitude from the points DataFrame.\n",
    "    \"\"\"\n",
    "    from xml.dom.minidom import getDOMImplementation\n",
    "    def append_trkpt(pt, trkseg, doc):\n",
    "        trkpt = doc.createElement('trkpt')\n",
    "        trkpt.setAttribute('lat', '%.7f' % (pt['lat']))\n",
    "        trkpt.setAttribute('lon', '%.7f' % (pt['lon']))\n",
    "        trkseg.appendChild(trkpt)\n",
    "    \n",
    "    doc = getDOMImplementation().createDocument(None, 'gpx', None)\n",
    "    trk = doc.createElement('trk')\n",
    "    doc.documentElement.appendChild(trk)\n",
    "    trkseg = doc.createElement('trkseg')\n",
    "    trk.appendChild(trkseg)\n",
    "    \n",
    "    points.apply(append_trkpt, axis=1, trkseg=trkseg, doc=doc)\n",
    "    \n",
    "    with open(output_filename, 'w') as fh:\n",
    "        doc.writexml(fh, indent=' ')"
   ]
  },
  {
   "cell_type": "code",
   "execution_count": 3,
   "id": "3e7eab1c",
   "metadata": {},
   "outputs": [],
   "source": [
    "def get_data(file):\n",
    "    parse_result = ET.parse(file)\n",
    "    lat_data = []\n",
    "    lon_data = []\n",
    "\n",
    "    for item in parse_result.iter('{http://www.topografix.com/GPX/1/0}trkpt'):\n",
    "        lat_data.append(float(item.attrib['lat']))\n",
    "        lon_data.append(float(item.attrib['lon']))\n",
    "\n",
    "    data = pd.DataFrame()\n",
    "    data['lat'] = lat_data\n",
    "    data['lon'] = lon_data\n",
    "    return data\n",
    "\n",
    "def distance(data): \n",
    "    shifted = data.shift(periods=1)\n",
    "    R = 6371000; # Radius of the earth\n",
    "    \n",
    "    dLat = np.radians(np.subtract(shifted['lat'], data['lat']))\n",
    "    dLon = np.radians(np.subtract(shifted['lon'], data['lon']))\n",
    "    a = np.sin(dLat/2) * np.sin(dLat/2) + np.cos(np.radians(data['lat'])) * np.cos(np.radians(shifted['lat'])) * np.sin(dLon/2) * np.sin(dLon/2)\n",
    "        \n",
    "    c = 2 * np.arctan2(np.sqrt(a), np.sqrt(1-a)) \n",
    "    d = R * c\n",
    "    d = d.sum()\n",
    "\n",
    "    return d"
   ]
  },
  {
   "cell_type": "code",
   "execution_count": 4,
   "id": "ae0ac3a4",
   "metadata": {},
   "outputs": [
    {
     "name": "stdout",
     "output_type": "stream",
     "text": [
      "Unfiltered distance: 1087.29\n"
     ]
    }
   ],
   "source": [
    "points = get_data('walk1.gpx')\n",
    "print('Unfiltered distance: %0.2f' % (distance(points),))"
   ]
  },
  {
   "cell_type": "code",
   "execution_count": 5,
   "id": "a09ac9ee",
   "metadata": {},
   "outputs": [
    {
     "data": {
      "text/plain": [
       "11217.038892"
      ]
     },
     "execution_count": 5,
     "metadata": {},
     "output_type": "execute_result"
    }
   ],
   "source": [
    "points = pd.DataFrame({\n",
    "    'lat': [49.28, 49.26, 49.26],\n",
    "    'lon': [123.00, 123.10, 123.05]})\n",
    "distance(points).round(6)"
   ]
  },
  {
   "cell_type": "code",
   "execution_count": 26,
   "id": "8dbf95f5",
   "metadata": {},
   "outputs": [],
   "source": [
    "def smooth(points):\n",
    "    initial_value_guess = points.iloc[0]\n",
    "    observation_covariance = np.diag([0.8, 0.8]) ** 2\n",
    "    transition_covariance = np.diag([0.4, 0.8]) ** 2\n",
    "    transition_matrix = [[1, 0], [0, 1]]\n",
    "    kf = KalmanFilter(initial_state_mean=initial_value_guess,\n",
    "                initial_state_covariance=observation_covariance,\n",
    "                observation_covariance=observation_covariance,\n",
    "                transition_covariance=transition_covariance,\n",
    "                transition_matrices=transition_matrix)\n",
    "    kalman_smoothed, _ = kf.smooth(points)\n",
    "    result = pd.DataFrame(kalman_smoothed,columns=['lat','lon'])\n",
    "    return result"
   ]
  },
  {
   "cell_type": "code",
   "execution_count": 27,
   "id": "c2464ab7",
   "metadata": {},
   "outputs": [
    {
     "name": "stdout",
     "output_type": "stream",
     "text": [
      "Filtered distance: 663.58\n"
     ]
    }
   ],
   "source": [
    "points = get_data('walk1.gpx') \n",
    "smoothed_points = smooth(points)\n",
    "print('Filtered distance: %0.2f' % (distance(smoothed_points),))\n",
    "output_gpx(smoothed_points, 'out.gpx')"
   ]
  },
  {
   "cell_type": "code",
   "execution_count": null,
   "id": "e5e5edbd",
   "metadata": {},
   "outputs": [],
   "source": []
  }
 ],
 "metadata": {
  "kernelspec": {
   "display_name": "Python 3 (ipykernel)",
   "language": "python",
   "name": "python3"
  },
  "language_info": {
   "codemirror_mode": {
    "name": "ipython",
    "version": 3
   },
   "file_extension": ".py",
   "mimetype": "text/x-python",
   "name": "python",
   "nbconvert_exporter": "python",
   "pygments_lexer": "ipython3",
   "version": "3.10.9"
  }
 },
 "nbformat": 4,
 "nbformat_minor": 5
}
