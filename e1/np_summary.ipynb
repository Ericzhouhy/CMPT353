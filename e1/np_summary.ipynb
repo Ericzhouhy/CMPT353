{
 "cells": [
  {
   "cell_type": "code",
   "execution_count": 1,
   "id": "c3a5e5f1",
   "metadata": {},
   "outputs": [],
   "source": [
    "import numpy as np"
   ]
  },
  {
   "cell_type": "code",
   "execution_count": 2,
   "id": "ad4f9b28",
   "metadata": {},
   "outputs": [],
   "source": [
    "data = np.load('monthdata.npz')\n",
    "totals = data['totals']\n",
    "counts = data['counts']"
   ]
  },
  {
   "cell_type": "code",
   "execution_count": 3,
   "id": "1d7d070c",
   "metadata": {},
   "outputs": [
    {
     "name": "stdout",
     "output_type": "stream",
     "text": [
      "[[1809 1482 2159  374  606  428  442   68  956 1429 1349 1846]\n",
      " [ 121   22   46   40  683  616 2061  834  253  276   27  224]\n",
      " [ 896 1232  992 1106 1236 1015 1264 1096 1026 2422 1184 1099]\n",
      " [1491 1473 1452 1595 1001  725  734  445  845 2185 1305 1835]\n",
      " [ 930  561  533  204  546  748  662  274  785 1620 1293  295]\n",
      " [ 183  982  621  471  667  671  525 1599  433 1176  594  627]\n",
      " [ 363  491  729  681  346  269  399  667  663  452  497  821]\n",
      " [1682 1304 1616  242  516  582  328  138  784 2034 2402 1520]\n",
      " [ 220   90   28  120   98  306  154  280  488  158  176  116]]\n",
      "[[30 22 30 30 21 21 20 25 20 19 17 16]\n",
      " [31 29 31 30 31 30 31 30 30 30 30 30]\n",
      " [31 29 31 30 30 30 31 31 30 31 30 31]\n",
      " [31 29 31 30 31 30 31 31 29 30 30 31]\n",
      " [31 29 31 29 31 29 30 31 30 31 30 29]\n",
      " [31 29 31 30 31 30 28 31 30 30 29 31]\n",
      " [31 28 31 30 31 30 31 31 30 31 29 31]\n",
      " [30 28 31 30 30 29 30 31 30 31 30 30]\n",
      " [31 28 31 30 31 30 31 31 30 30 30 30]]\n"
     ]
    }
   ],
   "source": [
    "print(totals)\n",
    "print(counts)"
   ]
  },
  {
   "cell_type": "code",
   "execution_count": 4,
   "id": "8c22c51b",
   "metadata": {},
   "outputs": [
    {
     "data": {
      "text/plain": [
       "array([12948,  5203, 14568, 15086,  8451,  8549,  6378, 13148,  2234],\n",
       "      dtype=int64)"
      ]
     },
     "execution_count": 4,
     "metadata": {},
     "output_type": "execute_result"
    }
   ],
   "source": [
    "year_total = totals.sum(axis=1)\n",
    "year_total"
   ]
  },
  {
   "cell_type": "code",
   "execution_count": 5,
   "id": "73636294",
   "metadata": {},
   "outputs": [
    {
     "data": {
      "text/plain": [
       "8"
      ]
     },
     "execution_count": 5,
     "metadata": {},
     "output_type": "execute_result"
    }
   ],
   "source": [
    "lowest_year_total_index = year_total.argmin()\n",
    "lowest_year_total_index #Answer for question 1"
   ]
  },
  {
   "cell_type": "code",
   "execution_count": 6,
   "id": "60c36a5d",
   "metadata": {},
   "outputs": [
    {
     "data": {
      "text/plain": [
       "array([ 7695,  7637,  8176,  4833,  5699,  5360,  6569,  5401,  6233,\n",
       "       11752,  8827,  8383], dtype=int64)"
      ]
     },
     "execution_count": 6,
     "metadata": {},
     "output_type": "execute_result"
    }
   ],
   "source": [
    "all_locations_month_total = totals.sum(axis=0)\n",
    "all_locations_month_total"
   ]
  },
  {
   "cell_type": "code",
   "execution_count": 7,
   "id": "87f02d9b",
   "metadata": {},
   "outputs": [
    {
     "data": {
      "text/plain": [
       "array([277, 251, 278, 269, 267, 259, 263, 272, 259, 263, 255, 259],\n",
       "      dtype=int64)"
      ]
     },
     "execution_count": 7,
     "metadata": {},
     "output_type": "execute_result"
    }
   ],
   "source": [
    "all_locations_observe_count = counts.sum(axis=0)\n",
    "all_locations_observe_count"
   ]
  },
  {
   "cell_type": "code",
   "execution_count": 8,
   "id": "84599664",
   "metadata": {},
   "outputs": [],
   "source": [
    "all_locations_average_precipitation = all_locations_month_total/all_locations_observe_count"
   ]
  },
  {
   "cell_type": "code",
   "execution_count": 9,
   "id": "b4edf035",
   "metadata": {},
   "outputs": [
    {
     "data": {
      "text/plain": [
       "array([27.77978339, 30.42629482, 29.41007194, 17.96654275, 21.34456929,\n",
       "       20.69498069, 24.97718631, 19.85661765, 24.06563707, 44.68441065,\n",
       "       34.61568627, 32.36679537])"
      ]
     },
     "execution_count": 9,
     "metadata": {},
     "output_type": "execute_result"
    }
   ],
   "source": [
    "all_locations_average_precipitation #Answer for question 2"
   ]
  },
  {
   "cell_type": "code",
   "execution_count": 11,
   "id": "14e779e0",
   "metadata": {},
   "outputs": [
    {
     "data": {
      "text/plain": [
       "array([271, 363, 365, 364, 361, 361, 364, 360, 363], dtype=int64)"
      ]
     },
     "execution_count": 11,
     "metadata": {},
     "output_type": "execute_result"
    }
   ],
   "source": [
    "counts_total = counts.sum(axis=1)\n",
    "counts_total"
   ]
  },
  {
   "cell_type": "code",
   "execution_count": 12,
   "id": "a382530b",
   "metadata": {},
   "outputs": [
    {
     "data": {
      "text/plain": [
       "array([47.77859779, 14.33333333, 39.91232877, 41.44505495, 23.4099723 ,\n",
       "       23.68144044, 17.52197802, 36.52222222,  6.15426997])"
      ]
     },
     "execution_count": 12,
     "metadata": {},
     "output_type": "execute_result"
    }
   ],
   "source": [
    "city_average_presi = year_total / counts_total\n",
    "city_average_presi #Answer for question 3"
   ]
  },
  {
   "cell_type": "code",
   "execution_count": 18,
   "id": "db28297a",
   "metadata": {},
   "outputs": [
    {
     "data": {
      "text/plain": [
       "array([[[1809, 1482, 2159],\n",
       "        [ 374,  606,  428],\n",
       "        [ 442,   68,  956],\n",
       "        [1429, 1349, 1846]],\n",
       "\n",
       "       [[ 121,   22,   46],\n",
       "        [  40,  683,  616],\n",
       "        [2061,  834,  253],\n",
       "        [ 276,   27,  224]],\n",
       "\n",
       "       [[ 896, 1232,  992],\n",
       "        [1106, 1236, 1015],\n",
       "        [1264, 1096, 1026],\n",
       "        [2422, 1184, 1099]],\n",
       "\n",
       "       [[1491, 1473, 1452],\n",
       "        [1595, 1001,  725],\n",
       "        [ 734,  445,  845],\n",
       "        [2185, 1305, 1835]],\n",
       "\n",
       "       [[ 930,  561,  533],\n",
       "        [ 204,  546,  748],\n",
       "        [ 662,  274,  785],\n",
       "        [1620, 1293,  295]],\n",
       "\n",
       "       [[ 183,  982,  621],\n",
       "        [ 471,  667,  671],\n",
       "        [ 525, 1599,  433],\n",
       "        [1176,  594,  627]],\n",
       "\n",
       "       [[ 363,  491,  729],\n",
       "        [ 681,  346,  269],\n",
       "        [ 399,  667,  663],\n",
       "        [ 452,  497,  821]],\n",
       "\n",
       "       [[1682, 1304, 1616],\n",
       "        [ 242,  516,  582],\n",
       "        [ 328,  138,  784],\n",
       "        [2034, 2402, 1520]],\n",
       "\n",
       "       [[ 220,   90,   28],\n",
       "        [ 120,   98,  306],\n",
       "        [ 154,  280,  488],\n",
       "        [ 158,  176,  116]]], dtype=int64)"
      ]
     },
     "execution_count": 18,
     "metadata": {},
     "output_type": "execute_result"
    }
   ],
   "source": [
    "reshaped_totals = totals.reshape(9,4,3)\n",
    "reshaped_totals"
   ]
  },
  {
   "cell_type": "code",
   "execution_count": 23,
   "id": "39099e05",
   "metadata": {},
   "outputs": [
    {
     "data": {
      "text/plain": [
       "array([[5450, 1408, 1466, 4624],\n",
       "       [ 189, 1339, 3148,  527],\n",
       "       [3120, 3357, 3386, 4705],\n",
       "       [4416, 3321, 2024, 5325],\n",
       "       [2024, 1498, 1721, 3208],\n",
       "       [1786, 1809, 2557, 2397],\n",
       "       [1583, 1296, 1729, 1770],\n",
       "       [4602, 1340, 1250, 5956],\n",
       "       [ 338,  524,  922,  450]], dtype=int64)"
      ]
     },
     "execution_count": 23,
     "metadata": {},
     "output_type": "execute_result"
    }
   ],
   "source": [
    "reshaped_totals_sum = reshaped_totals.sum(axis=2)\n",
    "reshaped_totals_sum #Answer for question 4"
   ]
  },
  {
   "cell_type": "code",
   "execution_count": null,
   "id": "10368913",
   "metadata": {},
   "outputs": [],
   "source": []
  }
 ],
 "metadata": {
  "kernelspec": {
   "display_name": "Python 3 (ipykernel)",
   "language": "python",
   "name": "python3"
  },
  "language_info": {
   "codemirror_mode": {
    "name": "ipython",
    "version": 3
   },
   "file_extension": ".py",
   "mimetype": "text/x-python",
   "name": "python",
   "nbconvert_exporter": "python",
   "pygments_lexer": "ipython3",
   "version": "3.10.9"
  }
 },
 "nbformat": 4,
 "nbformat_minor": 5
}
