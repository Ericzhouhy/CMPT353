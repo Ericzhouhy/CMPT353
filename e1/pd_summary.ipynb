{
 "cells": [
  {
   "cell_type": "code",
   "execution_count": 1,
   "id": "cc76ed7e",
   "metadata": {},
   "outputs": [],
   "source": [
    "import pandas as pd"
   ]
  },
  {
   "cell_type": "code",
   "execution_count": 2,
   "id": "14bd56ca",
   "metadata": {},
   "outputs": [],
   "source": [
    "totals = pd.read_csv('totals.csv').set_index(keys=['name'])\n",
    "counts = pd.read_csv('counts.csv').set_index(keys=['name'])"
   ]
  },
  {
   "cell_type": "code",
   "execution_count": 3,
   "id": "e3d9fb72",
   "metadata": {},
   "outputs": [
    {
     "data": {
      "text/html": [
       "<div>\n",
       "<style scoped>\n",
       "    .dataframe tbody tr th:only-of-type {\n",
       "        vertical-align: middle;\n",
       "    }\n",
       "\n",
       "    .dataframe tbody tr th {\n",
       "        vertical-align: top;\n",
       "    }\n",
       "\n",
       "    .dataframe thead th {\n",
       "        text-align: right;\n",
       "    }\n",
       "</style>\n",
       "<table border=\"1\" class=\"dataframe\">\n",
       "  <thead>\n",
       "    <tr style=\"text-align: right;\">\n",
       "      <th></th>\n",
       "      <th>2016-01</th>\n",
       "      <th>2016-02</th>\n",
       "      <th>2016-03</th>\n",
       "      <th>2016-04</th>\n",
       "      <th>2016-05</th>\n",
       "      <th>2016-06</th>\n",
       "      <th>2016-07</th>\n",
       "      <th>2016-08</th>\n",
       "      <th>2016-09</th>\n",
       "      <th>2016-10</th>\n",
       "      <th>2016-11</th>\n",
       "      <th>2016-12</th>\n",
       "    </tr>\n",
       "    <tr>\n",
       "      <th>name</th>\n",
       "      <th></th>\n",
       "      <th></th>\n",
       "      <th></th>\n",
       "      <th></th>\n",
       "      <th></th>\n",
       "      <th></th>\n",
       "      <th></th>\n",
       "      <th></th>\n",
       "      <th></th>\n",
       "      <th></th>\n",
       "      <th></th>\n",
       "      <th></th>\n",
       "    </tr>\n",
       "  </thead>\n",
       "  <tbody>\n",
       "    <tr>\n",
       "      <th>BURNABY SIMON FRASER U</th>\n",
       "      <td>30</td>\n",
       "      <td>22</td>\n",
       "      <td>30</td>\n",
       "      <td>30</td>\n",
       "      <td>21</td>\n",
       "      <td>21</td>\n",
       "      <td>20</td>\n",
       "      <td>25</td>\n",
       "      <td>20</td>\n",
       "      <td>19</td>\n",
       "      <td>17</td>\n",
       "      <td>16</td>\n",
       "    </tr>\n",
       "    <tr>\n",
       "      <th>CALGARY INTL A</th>\n",
       "      <td>31</td>\n",
       "      <td>29</td>\n",
       "      <td>31</td>\n",
       "      <td>30</td>\n",
       "      <td>31</td>\n",
       "      <td>30</td>\n",
       "      <td>31</td>\n",
       "      <td>30</td>\n",
       "      <td>30</td>\n",
       "      <td>30</td>\n",
       "      <td>30</td>\n",
       "      <td>30</td>\n",
       "    </tr>\n",
       "    <tr>\n",
       "      <th>GANDER INTL A</th>\n",
       "      <td>31</td>\n",
       "      <td>29</td>\n",
       "      <td>31</td>\n",
       "      <td>30</td>\n",
       "      <td>30</td>\n",
       "      <td>30</td>\n",
       "      <td>31</td>\n",
       "      <td>31</td>\n",
       "      <td>30</td>\n",
       "      <td>31</td>\n",
       "      <td>30</td>\n",
       "      <td>31</td>\n",
       "    </tr>\n",
       "    <tr>\n",
       "      <th>HALIFAX INTL A</th>\n",
       "      <td>31</td>\n",
       "      <td>29</td>\n",
       "      <td>31</td>\n",
       "      <td>30</td>\n",
       "      <td>31</td>\n",
       "      <td>30</td>\n",
       "      <td>31</td>\n",
       "      <td>31</td>\n",
       "      <td>29</td>\n",
       "      <td>30</td>\n",
       "      <td>30</td>\n",
       "      <td>31</td>\n",
       "    </tr>\n",
       "    <tr>\n",
       "      <th>REVELSTOKE</th>\n",
       "      <td>31</td>\n",
       "      <td>29</td>\n",
       "      <td>31</td>\n",
       "      <td>29</td>\n",
       "      <td>31</td>\n",
       "      <td>29</td>\n",
       "      <td>30</td>\n",
       "      <td>31</td>\n",
       "      <td>30</td>\n",
       "      <td>31</td>\n",
       "      <td>30</td>\n",
       "      <td>29</td>\n",
       "    </tr>\n",
       "    <tr>\n",
       "      <th>SHERBROOKE</th>\n",
       "      <td>31</td>\n",
       "      <td>29</td>\n",
       "      <td>31</td>\n",
       "      <td>30</td>\n",
       "      <td>31</td>\n",
       "      <td>30</td>\n",
       "      <td>28</td>\n",
       "      <td>31</td>\n",
       "      <td>30</td>\n",
       "      <td>30</td>\n",
       "      <td>29</td>\n",
       "      <td>31</td>\n",
       "    </tr>\n",
       "    <tr>\n",
       "      <th>TORONTO LESTER B. PEARSON INT'</th>\n",
       "      <td>31</td>\n",
       "      <td>28</td>\n",
       "      <td>31</td>\n",
       "      <td>30</td>\n",
       "      <td>31</td>\n",
       "      <td>30</td>\n",
       "      <td>31</td>\n",
       "      <td>31</td>\n",
       "      <td>30</td>\n",
       "      <td>31</td>\n",
       "      <td>29</td>\n",
       "      <td>31</td>\n",
       "    </tr>\n",
       "    <tr>\n",
       "      <th>VANCOUVER INTL A</th>\n",
       "      <td>30</td>\n",
       "      <td>28</td>\n",
       "      <td>31</td>\n",
       "      <td>30</td>\n",
       "      <td>30</td>\n",
       "      <td>29</td>\n",
       "      <td>30</td>\n",
       "      <td>31</td>\n",
       "      <td>30</td>\n",
       "      <td>31</td>\n",
       "      <td>30</td>\n",
       "      <td>30</td>\n",
       "    </tr>\n",
       "    <tr>\n",
       "      <th>YELLOWKNIFE A</th>\n",
       "      <td>31</td>\n",
       "      <td>28</td>\n",
       "      <td>31</td>\n",
       "      <td>30</td>\n",
       "      <td>31</td>\n",
       "      <td>30</td>\n",
       "      <td>31</td>\n",
       "      <td>31</td>\n",
       "      <td>30</td>\n",
       "      <td>30</td>\n",
       "      <td>30</td>\n",
       "      <td>30</td>\n",
       "    </tr>\n",
       "  </tbody>\n",
       "</table>\n",
       "</div>"
      ],
      "text/plain": [
       "                                2016-01  2016-02  2016-03  2016-04  2016-05  \\\n",
       "name                                                                          \n",
       "BURNABY SIMON FRASER U               30       22       30       30       21   \n",
       "CALGARY INTL A                       31       29       31       30       31   \n",
       "GANDER INTL A                        31       29       31       30       30   \n",
       "HALIFAX INTL A                       31       29       31       30       31   \n",
       "REVELSTOKE                           31       29       31       29       31   \n",
       "SHERBROOKE                           31       29       31       30       31   \n",
       "TORONTO LESTER B. PEARSON INT'       31       28       31       30       31   \n",
       "VANCOUVER INTL A                     30       28       31       30       30   \n",
       "YELLOWKNIFE A                        31       28       31       30       31   \n",
       "\n",
       "                                2016-06  2016-07  2016-08  2016-09  2016-10  \\\n",
       "name                                                                          \n",
       "BURNABY SIMON FRASER U               21       20       25       20       19   \n",
       "CALGARY INTL A                       30       31       30       30       30   \n",
       "GANDER INTL A                        30       31       31       30       31   \n",
       "HALIFAX INTL A                       30       31       31       29       30   \n",
       "REVELSTOKE                           29       30       31       30       31   \n",
       "SHERBROOKE                           30       28       31       30       30   \n",
       "TORONTO LESTER B. PEARSON INT'       30       31       31       30       31   \n",
       "VANCOUVER INTL A                     29       30       31       30       31   \n",
       "YELLOWKNIFE A                        30       31       31       30       30   \n",
       "\n",
       "                                2016-11  2016-12  \n",
       "name                                              \n",
       "BURNABY SIMON FRASER U               17       16  \n",
       "CALGARY INTL A                       30       30  \n",
       "GANDER INTL A                        30       31  \n",
       "HALIFAX INTL A                       30       31  \n",
       "REVELSTOKE                           30       29  \n",
       "SHERBROOKE                           29       31  \n",
       "TORONTO LESTER B. PEARSON INT'       29       31  \n",
       "VANCOUVER INTL A                     30       30  \n",
       "YELLOWKNIFE A                        30       30  "
      ]
     },
     "execution_count": 3,
     "metadata": {},
     "output_type": "execute_result"
    }
   ],
   "source": [
    "totals\n",
    "counts"
   ]
  },
  {
   "cell_type": "code",
   "execution_count": 4,
   "id": "581d58a4",
   "metadata": {},
   "outputs": [
    {
     "data": {
      "text/plain": [
       "name\n",
       "BURNABY SIMON FRASER U            12948\n",
       "CALGARY INTL A                     5203\n",
       "GANDER INTL A                     14568\n",
       "HALIFAX INTL A                    15086\n",
       "REVELSTOKE                         8451\n",
       "SHERBROOKE                         8549\n",
       "TORONTO LESTER B. PEARSON INT'     6378\n",
       "VANCOUVER INTL A                  13148\n",
       "YELLOWKNIFE A                      2234\n",
       "dtype: int64"
      ]
     },
     "execution_count": 4,
     "metadata": {},
     "output_type": "execute_result"
    }
   ],
   "source": [
    "year_total = totals.sum(axis=1)\n",
    "year_total"
   ]
  },
  {
   "cell_type": "code",
   "execution_count": 5,
   "id": "46c20693",
   "metadata": {},
   "outputs": [
    {
     "data": {
      "text/plain": [
       "'YELLOWKNIFE A'"
      ]
     },
     "execution_count": 5,
     "metadata": {},
     "output_type": "execute_result"
    }
   ],
   "source": [
    "lowest_year_total_index = year_total.idxmin()\n",
    "lowest_year_total_index #Answer for question 1"
   ]
  },
  {
   "cell_type": "code",
   "execution_count": 6,
   "id": "826f943e",
   "metadata": {},
   "outputs": [
    {
     "data": {
      "text/plain": [
       "2016-01     7695\n",
       "2016-02     7637\n",
       "2016-03     8176\n",
       "2016-04     4833\n",
       "2016-05     5699\n",
       "2016-06     5360\n",
       "2016-07     6569\n",
       "2016-08     5401\n",
       "2016-09     6233\n",
       "2016-10    11752\n",
       "2016-11     8827\n",
       "2016-12     8383\n",
       "dtype: int64"
      ]
     },
     "execution_count": 6,
     "metadata": {},
     "output_type": "execute_result"
    }
   ],
   "source": [
    "all_locations_month_total = totals.sum(axis=0)\n",
    "all_locations_month_total"
   ]
  },
  {
   "cell_type": "code",
   "execution_count": 7,
   "id": "d6efd426",
   "metadata": {},
   "outputs": [
    {
     "data": {
      "text/plain": [
       "2016-01    277\n",
       "2016-02    251\n",
       "2016-03    278\n",
       "2016-04    269\n",
       "2016-05    267\n",
       "2016-06    259\n",
       "2016-07    263\n",
       "2016-08    272\n",
       "2016-09    259\n",
       "2016-10    263\n",
       "2016-11    255\n",
       "2016-12    259\n",
       "dtype: int64"
      ]
     },
     "execution_count": 7,
     "metadata": {},
     "output_type": "execute_result"
    }
   ],
   "source": [
    "all_locations_observe_count = counts.sum(axis=0)\n",
    "all_locations_observe_count"
   ]
  },
  {
   "cell_type": "code",
   "execution_count": 8,
   "id": "14d524fe",
   "metadata": {},
   "outputs": [],
   "source": [
    "all_locations_average_precipitation = all_locations_month_total/all_locations_observe_count"
   ]
  },
  {
   "cell_type": "code",
   "execution_count": 9,
   "id": "3792d1af",
   "metadata": {},
   "outputs": [
    {
     "data": {
      "text/plain": [
       "2016-01    27.779783\n",
       "2016-02    30.426295\n",
       "2016-03    29.410072\n",
       "2016-04    17.966543\n",
       "2016-05    21.344569\n",
       "2016-06    20.694981\n",
       "2016-07    24.977186\n",
       "2016-08    19.856618\n",
       "2016-09    24.065637\n",
       "2016-10    44.684411\n",
       "2016-11    34.615686\n",
       "2016-12    32.366795\n",
       "dtype: float64"
      ]
     },
     "execution_count": 9,
     "metadata": {},
     "output_type": "execute_result"
    }
   ],
   "source": [
    "all_locations_average_precipitation #Answer for question 2"
   ]
  },
  {
   "cell_type": "code",
   "execution_count": 10,
   "id": "0c7b5989",
   "metadata": {},
   "outputs": [
    {
     "data": {
      "text/plain": [
       "name\n",
       "BURNABY SIMON FRASER U            271\n",
       "CALGARY INTL A                    363\n",
       "GANDER INTL A                     365\n",
       "HALIFAX INTL A                    364\n",
       "REVELSTOKE                        361\n",
       "SHERBROOKE                        361\n",
       "TORONTO LESTER B. PEARSON INT'    364\n",
       "VANCOUVER INTL A                  360\n",
       "YELLOWKNIFE A                     363\n",
       "dtype: int64"
      ]
     },
     "execution_count": 10,
     "metadata": {},
     "output_type": "execute_result"
    }
   ],
   "source": [
    "counts_total = counts.sum(axis=1)\n",
    "counts_total"
   ]
  },
  {
   "cell_type": "code",
   "execution_count": 11,
   "id": "f4f69d4b",
   "metadata": {},
   "outputs": [
    {
     "data": {
      "text/plain": [
       "name\n",
       "BURNABY SIMON FRASER U            47.778598\n",
       "CALGARY INTL A                    14.333333\n",
       "GANDER INTL A                     39.912329\n",
       "HALIFAX INTL A                    41.445055\n",
       "REVELSTOKE                        23.409972\n",
       "SHERBROOKE                        23.681440\n",
       "TORONTO LESTER B. PEARSON INT'    17.521978\n",
       "VANCOUVER INTL A                  36.522222\n",
       "YELLOWKNIFE A                      6.154270\n",
       "dtype: float64"
      ]
     },
     "execution_count": 11,
     "metadata": {},
     "output_type": "execute_result"
    }
   ],
   "source": [
    "city_average_presi = year_total / counts_total\n",
    "city_average_presi #Answer for question 3"
   ]
  },
  {
   "cell_type": "code",
   "execution_count": null,
   "id": "d0743f84",
   "metadata": {},
   "outputs": [],
   "source": []
  }
 ],
 "metadata": {
  "kernelspec": {
   "display_name": "Python 3 (ipykernel)",
   "language": "python",
   "name": "python3"
  },
  "language_info": {
   "codemirror_mode": {
    "name": "ipython",
    "version": 3
   },
   "file_extension": ".py",
   "mimetype": "text/x-python",
   "name": "python",
   "nbconvert_exporter": "python",
   "pygments_lexer": "ipython3",
   "version": "3.10.9"
  }
 },
 "nbformat": 4,
 "nbformat_minor": 5
}
