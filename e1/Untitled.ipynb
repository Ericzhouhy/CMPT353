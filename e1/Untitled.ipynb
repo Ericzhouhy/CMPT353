{
 "cells": [
  {
   "cell_type": "code",
   "execution_count": 2,
   "id": "a44f7946",
   "metadata": {},
   "outputs": [
    {
     "name": "stdout",
     "output_type": "stream",
     "text": [
      "10.1 ms ± 600 µs per loop (mean ± std. dev. of 7 runs, 100 loops each)\n"
     ]
    }
   ],
   "source": [
    "import numpy as np\n",
    "import pandas as pd\n",
    "\n",
    "\n",
    "def get_precip_data():\n",
    "    data =pd.read_csv('C:/Users/ericz/Desktop/CMPT353/e1/precipitation.csv', parse_dates=[2])\n",
    "    data.insert(loc=3,column='month',value = date_to_month(data['date']))\n",
    "    return data\n",
    "\n",
    "\n",
    "def date_to_month(d):\n",
    "    # You may need to modify this function, depending on your data types.\n",
    "    return d.dt.strftime('%Y-%m')\n",
    "\n",
    "def pivot_months_pandas(data):\n",
    "    \"\"\"\n",
    "    Create monthly precipitation totals for each station in the data set.\n",
    "    \n",
    "    This should use Pandas methods to manipulate the data.\n",
    "    \"\"\"\n",
    "    #data.insert(loc=3,column='month',value = date_to_month(data['date']))\n",
    "    group = data.groupby(['name','month'])\n",
    "    sum_pre = group.aggregate({'precipitation': 'sum'}).reset_index()\n",
    "    totals = sum_pre.pivot(index = 'name',columns = 'month',values = 'precipitation')\n",
    "    sum_counts = group.aggregate('count').reset_index()\n",
    "    counts = sum_counts.pivot(index = 'name',columns = 'month',values = 'elevation')\n",
    "    # ...\n",
    "    return totals, counts\n",
    "data = get_precip_data()\n",
    "%timeit pivot_months_pandas(data)"
   ]
  },
  {
   "cell_type": "code",
   "execution_count": null,
   "id": "bd66c9ed",
   "metadata": {},
   "outputs": [],
   "source": []
  }
 ],
 "metadata": {
  "kernelspec": {
   "display_name": "Python 3 (ipykernel)",
   "language": "python",
   "name": "python3"
  },
  "language_info": {
   "codemirror_mode": {
    "name": "ipython",
    "version": 3
   },
   "file_extension": ".py",
   "mimetype": "text/x-python",
   "name": "python",
   "nbconvert_exporter": "python",
   "pygments_lexer": "ipython3",
   "version": "3.10.9"
  }
 },
 "nbformat": 4,
 "nbformat_minor": 5
}
