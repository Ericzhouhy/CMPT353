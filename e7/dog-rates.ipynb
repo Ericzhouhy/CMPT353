{
 "cells": [
  {
   "cell_type": "code",
   "execution_count": 1,
   "id": "e3952fe6",
   "metadata": {},
   "outputs": [],
   "source": [
    "import pandas as pd\n",
    "import re\n",
    "import matplotlib.pyplot as plt\n",
    "from scipy import stats"
   ]
  },
  {
   "cell_type": "code",
   "execution_count": 2,
   "id": "dc0e1596",
   "metadata": {},
   "outputs": [],
   "source": [
    "rates = pd.read_csv('dog_rates_tweets.csv', parse_dates=['created_at'])"
   ]
  },
  {
   "cell_type": "code",
   "execution_count": 3,
   "id": "09f12b52",
   "metadata": {},
   "outputs": [
    {
     "name": "stderr",
     "output_type": "stream",
     "text": [
      "C:\\Users\\ericz\\AppData\\Local\\Temp\\ipykernel_16408\\3666596745.py:1: UserWarning: This pattern is interpreted as a regular expression, and has match groups. To actually get the groups, use str.extract.\n",
      "  data = rates[rates['text'].str.contains(r'(\\d+(\\.\\d+)?)/10')]\n"
     ]
    }
   ],
   "source": [
    "data = rates[rates['text'].str.contains(r'(\\d+(\\.\\d+)?)/10')]"
   ]
  },
  {
   "cell_type": "code",
   "execution_count": 4,
   "id": "669ecaf9",
   "metadata": {},
   "outputs": [],
   "source": [
    "def get_rate(data):\n",
    "    match = re.search(r'(\\d+(\\.\\d+)?)/10', data)\n",
    "    return float(match.group(1))"
   ]
  },
  {
   "cell_type": "code",
   "execution_count": 5,
   "id": "5c964a4f",
   "metadata": {},
   "outputs": [
    {
     "name": "stderr",
     "output_type": "stream",
     "text": [
      "C:\\Users\\ericz\\AppData\\Local\\Temp\\ipykernel_16408\\406036065.py:1: SettingWithCopyWarning: \n",
      "A value is trying to be set on a copy of a slice from a DataFrame.\n",
      "Try using .loc[row_indexer,col_indexer] = value instead\n",
      "\n",
      "See the caveats in the documentation: https://pandas.pydata.org/pandas-docs/stable/user_guide/indexing.html#returning-a-view-versus-a-copy\n",
      "  data['rating'] = data['text'].map(get_rate)\n"
     ]
    }
   ],
   "source": [
    "data['rating'] = data['text'].map(get_rate)"
   ]
  },
  {
   "cell_type": "code",
   "execution_count": 6,
   "id": "df40ef41",
   "metadata": {},
   "outputs": [],
   "source": [
    "data = data.drop(data[data['rating']<0].index)\n",
    "data = data.drop(data[data['rating']>25].index)"
   ]
  },
  {
   "cell_type": "code",
   "execution_count": 7,
   "id": "fc7f5f60",
   "metadata": {},
   "outputs": [],
   "source": [
    "def to_timestamp(data):\n",
    "    return data.timestamp()"
   ]
  },
  {
   "cell_type": "code",
   "execution_count": 8,
   "id": "e56abad5",
   "metadata": {},
   "outputs": [],
   "source": [
    "data['timestamp'] = data['created_at'].apply(to_timestamp)"
   ]
  },
  {
   "cell_type": "code",
   "execution_count": 9,
   "id": "a752dc84",
   "metadata": {},
   "outputs": [],
   "source": [
    "rateSlope,rateIntercept,rvalue, pvalue, stderr = stats.linregress(data['timestamp'].values,data['rating'].values)"
   ]
  },
  {
   "cell_type": "markdown",
   "id": "fd9cbb9d",
   "metadata": {},
   "source": [
    "# Results"
   ]
  },
  {
   "cell_type": "code",
   "execution_count": 10,
   "id": "4e83e5b6",
   "metadata": {},
   "outputs": [],
   "source": [
    "data['prediction']= data['timestamp']*rateSlope + rateIntercept"
   ]
  },
  {
   "cell_type": "code",
   "execution_count": 11,
   "id": "9cd66f16",
   "metadata": {},
   "outputs": [
    {
     "data": {
      "text/html": [
       "<div>\n",
       "<style scoped>\n",
       "    .dataframe tbody tr th:only-of-type {\n",
       "        vertical-align: middle;\n",
       "    }\n",
       "\n",
       "    .dataframe tbody tr th {\n",
       "        vertical-align: top;\n",
       "    }\n",
       "\n",
       "    .dataframe thead th {\n",
       "        text-align: right;\n",
       "    }\n",
       "</style>\n",
       "<table border=\"1\" class=\"dataframe\">\n",
       "  <thead>\n",
       "    <tr style=\"text-align: right;\">\n",
       "      <th></th>\n",
       "      <th>id</th>\n",
       "      <th>created_at</th>\n",
       "      <th>text</th>\n",
       "      <th>rating</th>\n",
       "      <th>timestamp</th>\n",
       "      <th>prediction</th>\n",
       "    </tr>\n",
       "  </thead>\n",
       "  <tbody>\n",
       "    <tr>\n",
       "      <th>2</th>\n",
       "      <td>994363623421153280</td>\n",
       "      <td>2018-05-09 23:48:56</td>\n",
       "      <td>This is Louie. He has misplaced his Cheerio. W...</td>\n",
       "      <td>14.0</td>\n",
       "      <td>1.525935e+09</td>\n",
       "      <td>12.303514</td>\n",
       "    </tr>\n",
       "    <tr>\n",
       "      <th>7</th>\n",
       "      <td>993889039714578432</td>\n",
       "      <td>2018-05-08 16:23:07</td>\n",
       "      <td>This is Manny. He hasn’t seen your croissant. ...</td>\n",
       "      <td>13.0</td>\n",
       "      <td>1.525822e+09</td>\n",
       "      <td>12.301817</td>\n",
       "    </tr>\n",
       "    <tr>\n",
       "      <th>8</th>\n",
       "      <td>993629544463642624</td>\n",
       "      <td>2018-05-07 23:11:58</td>\n",
       "      <td>This is Libby. She leap. 14/10\\n(IG: libbythef...</td>\n",
       "      <td>14.0</td>\n",
       "      <td>1.525760e+09</td>\n",
       "      <td>12.300888</td>\n",
       "    </tr>\n",
       "    <tr>\n",
       "      <th>24</th>\n",
       "      <td>992198572664860672</td>\n",
       "      <td>2018-05-04 00:25:48</td>\n",
       "      <td>This is Rosie. She thought Coachella was this ...</td>\n",
       "      <td>13.0</td>\n",
       "      <td>1.525419e+09</td>\n",
       "      <td>12.295770</td>\n",
       "    </tr>\n",
       "    <tr>\n",
       "      <th>30</th>\n",
       "      <td>991744041351090177</td>\n",
       "      <td>2018-05-02 18:19:39</td>\n",
       "      <td>This is Riley. He’ll be your chauffeur this ev...</td>\n",
       "      <td>13.0</td>\n",
       "      <td>1.525310e+09</td>\n",
       "      <td>12.294144</td>\n",
       "    </tr>\n",
       "    <tr>\n",
       "      <th>...</th>\n",
       "      <td>...</td>\n",
       "      <td>...</td>\n",
       "      <td>...</td>\n",
       "      <td>...</td>\n",
       "      <td>...</td>\n",
       "      <td>...</td>\n",
       "    </tr>\n",
       "    <tr>\n",
       "      <th>14885</th>\n",
       "      <td>1275493485085245440</td>\n",
       "      <td>2020-06-23 18:18:39+00:00</td>\n",
       "      <td>This is Ruth. She was spotted at a rally doing...</td>\n",
       "      <td>14.0</td>\n",
       "      <td>1.592936e+09</td>\n",
       "      <td>13.308733</td>\n",
       "    </tr>\n",
       "    <tr>\n",
       "      <th>14895</th>\n",
       "      <td>1275102054608855040</td>\n",
       "      <td>2020-06-22 16:23:14+00:00</td>\n",
       "      <td>This is Narcos. He is very angry with you. The...</td>\n",
       "      <td>13.0</td>\n",
       "      <td>1.592843e+09</td>\n",
       "      <td>13.307333</td>\n",
       "    </tr>\n",
       "    <tr>\n",
       "      <th>14896</th>\n",
       "      <td>1274821722584125442</td>\n",
       "      <td>2020-06-21 21:49:18+00:00</td>\n",
       "      <td>@PatrickKenneyMD omg i’d say 13/10 but i’d hat...</td>\n",
       "      <td>13.0</td>\n",
       "      <td>1.592776e+09</td>\n",
       "      <td>13.306330</td>\n",
       "    </tr>\n",
       "    <tr>\n",
       "      <th>14906</th>\n",
       "      <td>1273774320519483392</td>\n",
       "      <td>2020-06-19 00:27:18+00:00</td>\n",
       "      <td>This is Oakley. He’s on his way home for the f...</td>\n",
       "      <td>12.0</td>\n",
       "      <td>1.592526e+09</td>\n",
       "      <td>13.302583</td>\n",
       "    </tr>\n",
       "    <tr>\n",
       "      <th>14917</th>\n",
       "      <td>1273345579829977088</td>\n",
       "      <td>2020-06-17 20:03:38+00:00</td>\n",
       "      <td>Not all superheroes wear capes, but this one d...</td>\n",
       "      <td>14.0</td>\n",
       "      <td>1.592424e+09</td>\n",
       "      <td>13.301050</td>\n",
       "    </tr>\n",
       "  </tbody>\n",
       "</table>\n",
       "<p>2116 rows × 6 columns</p>\n",
       "</div>"
      ],
      "text/plain": [
       "                        id                 created_at  \\\n",
       "2       994363623421153280        2018-05-09 23:48:56   \n",
       "7       993889039714578432        2018-05-08 16:23:07   \n",
       "8       993629544463642624        2018-05-07 23:11:58   \n",
       "24      992198572664860672        2018-05-04 00:25:48   \n",
       "30      991744041351090177        2018-05-02 18:19:39   \n",
       "...                    ...                        ...   \n",
       "14885  1275493485085245440  2020-06-23 18:18:39+00:00   \n",
       "14895  1275102054608855040  2020-06-22 16:23:14+00:00   \n",
       "14896  1274821722584125442  2020-06-21 21:49:18+00:00   \n",
       "14906  1273774320519483392  2020-06-19 00:27:18+00:00   \n",
       "14917  1273345579829977088  2020-06-17 20:03:38+00:00   \n",
       "\n",
       "                                                    text  rating  \\\n",
       "2      This is Louie. He has misplaced his Cheerio. W...    14.0   \n",
       "7      This is Manny. He hasn’t seen your croissant. ...    13.0   \n",
       "8      This is Libby. She leap. 14/10\\n(IG: libbythef...    14.0   \n",
       "24     This is Rosie. She thought Coachella was this ...    13.0   \n",
       "30     This is Riley. He’ll be your chauffeur this ev...    13.0   \n",
       "...                                                  ...     ...   \n",
       "14885  This is Ruth. She was spotted at a rally doing...    14.0   \n",
       "14895  This is Narcos. He is very angry with you. The...    13.0   \n",
       "14896  @PatrickKenneyMD omg i’d say 13/10 but i’d hat...    13.0   \n",
       "14906  This is Oakley. He’s on his way home for the f...    12.0   \n",
       "14917  Not all superheroes wear capes, but this one d...    14.0   \n",
       "\n",
       "          timestamp  prediction  \n",
       "2      1.525935e+09   12.303514  \n",
       "7      1.525822e+09   12.301817  \n",
       "8      1.525760e+09   12.300888  \n",
       "24     1.525419e+09   12.295770  \n",
       "30     1.525310e+09   12.294144  \n",
       "...             ...         ...  \n",
       "14885  1.592936e+09   13.308733  \n",
       "14895  1.592843e+09   13.307333  \n",
       "14896  1.592776e+09   13.306330  \n",
       "14906  1.592526e+09   13.302583  \n",
       "14917  1.592424e+09   13.301050  \n",
       "\n",
       "[2116 rows x 6 columns]"
      ]
     },
     "execution_count": 11,
     "metadata": {},
     "output_type": "execute_result"
    }
   ],
   "source": [
    "data"
   ]
  },
  {
   "cell_type": "code",
   "execution_count": 12,
   "id": "4a90c16d",
   "metadata": {},
   "outputs": [
    {
     "data": {
      "text/plain": [
       "(1.500295334373573e-08, -10.590016533606498)"
      ]
     },
     "execution_count": 12,
     "metadata": {},
     "output_type": "execute_result"
    }
   ],
   "source": [
    "rateSlope,rateIntercept"
   ]
  },
  {
   "cell_type": "code",
   "execution_count": 13,
   "id": "45ece5a9",
   "metadata": {},
   "outputs": [
    {
     "data": {
      "image/png": "[encoded data removed]",
      "text/plain": [
       "<Figure size 640x480 with 1 Axes>"
      ]
     },
     "metadata": {},
     "output_type": "display_data"
    }
   ],
   "source": [
    "plt.xticks(rotation=25)\n",
    "plt.plot(data['created_at'].values, data['rating'].values, 'b.', alpha=0.5)\n",
    "plt.plot(data['created_at'].values, data['prediction'].values, 'r-', linewidth=3)\n",
    "plt.show()"
   ]
  },
  {
   "cell_type": "code",
   "execution_count": 14,
   "id": "7573e9cb",
   "metadata": {},
   "outputs": [
    {
     "data": {
      "text/plain": [
       "2.536058725134726e-127"
      ]
     },
     "execution_count": 14,
     "metadata": {},
     "output_type": "execute_result"
    }
   ],
   "source": [
    "pvalue"
   ]
  },
  {
   "cell_type": "code",
   "execution_count": 15,
   "id": "e118009e",
   "metadata": {},
   "outputs": [],
   "source": [
    "data['residuals'] = data['rating'] - data['prediction']"
   ]
  },
  {
   "cell_type": "code",
   "execution_count": 16,
   "id": "f0dfd9ce",
   "metadata": {},
   "outputs": [
    {
     "data": {
      "image/png": "[encoded data removed]",
      "text/plain": [
       "<Figure size 640x480 with 1 Axes>"
      ]
     },
     "metadata": {},
     "output_type": "display_data"
    }
   ],
   "source": [
    "plt.hist(data['residuals'])\n",
    "plt.show()"
   ]
  },
  {
   "cell_type": "code",
   "execution_count": null,
   "id": "3d212007",
   "metadata": {},
   "outputs": [],
   "source": []
  }
 ],
 "metadata": {
  "kernelspec": {
   "display_name": "Python 3 (ipykernel)",
   "language": "python",
   "name": "python3"
  },
  "language_info": {
   "codemirror_mode": {
    "name": "ipython",
    "version": 3
   },
   "file_extension": ".py",
   "mimetype": "text/x-python",
   "name": "python",
   "nbconvert_exporter": "python",
   "pygments_lexer": "ipython3",
   "version": "3.10.9"
  }
 },
 "nbformat": 4,
 "nbformat_minor": 5
}
